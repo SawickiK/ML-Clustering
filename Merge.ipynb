{
 "cells": [
  {
   "cell_type": "code",
   "execution_count": 2,
   "id": "2a0e5a38",
   "metadata": {},
   "outputs": [],
   "source": [
    "import nbformat as nbf\n",
    "\n",
    "# Ścieżki do plików do połączenia\n",
    "path1 = 'preprocessing.ipynb'\n",
    "path2 = 'ClusteringOstateczny.ipynb'\n",
    "\n",
    "# Wczytanie zawartości plików\n",
    "with open(path1, 'r',encoding='utf-8') as f1, open(path2, 'r',encoding='utf-8') as f2:\n",
    "    nb1 = nbf.read(f1, nbf.NO_CONVERT)\n",
    "    nb2 = nbf.read(f2, nbf.NO_CONVERT)\n",
    "\n",
    "# Połączenie komórek z obu plików\n",
    "nb1.cells.extend(nb2.cells)\n",
    "\n",
    "# Zapisanie połączonych komórek do nowego pliku\n",
    "output_path = 'budowa_krok_final_4.ipynb'\n",
    "with open(output_path, 'w', encoding='utf-8') as f:\n",
    "    nbf.write(nb1, f)"
   ]
  }
 ],
 "metadata": {
  "kernelspec": {
   "display_name": "Python 3 (ipykernel)",
   "language": "python",
   "name": "python3"
  },
  "language_info": {
   "codemirror_mode": {
    "name": "ipython",
    "version": 3
   },
   "file_extension": ".py",
   "mimetype": "text/x-python",
   "name": "python",
   "nbconvert_exporter": "python",
   "pygments_lexer": "ipython3",
   "version": "3.9.5"
  }
 },
 "nbformat": 4,
 "nbformat_minor": 5
}
